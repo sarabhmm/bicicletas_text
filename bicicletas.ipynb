{
 "cells": [
  {
   "cell_type": "markdown",
   "metadata": {},
   "source": [
    "# muestra las ventas realizadas en washington donde el codigo postal termine en 52"
   ]
  },
  {
   "cell_type": "code",
   "execution_count": null,
   "metadata": {},
   "outputs": [],
   "source": [
    "SELECT *\n",
    "FROM  SalesLT.Address \n",
    "WHERE StateProvince LIKE '%Washington%'\n",
    "AND PostalCode LIKE '%52';"
   ]
  },
  {
   "cell_type": "markdown",
   "metadata": {},
   "source": [
    "\n",
    "\n",
    "\n",
    "# unificar producto y  nombre y ver solo articulos con un precio entre 0 y 1993"
   ]
  },
  {
   "cell_type": "code",
   "execution_count": null,
   "metadata": {},
   "outputs": [],
   "source": [
    "SELECT CONCAT(ProductID,'_', Name) AS NOMBRE, ListPrice \n",
    "FROM SalesLT.Product\n",
    "WHERE ListPrice BETWEEN '0' AND '1999'\n",
    "ORDER BY ListPrice;\n"
   ]
  },
  {
   "cell_type": "markdown",
   "metadata": {},
   "source": [
    "\n",
    "# El nombre, el apellido y el email de los clientes que hayan comprado entre enero y junio de 2006"
   ]
  },
  {
   "cell_type": "code",
   "execution_count": null,
   "metadata": {},
   "outputs": [],
   "source": [
    "\n",
    "SELECT FirstName, LastName, EmailAddress\n",
    "FROM SalesLT.Customer\n",
    "Where ModifiedDate BETWEEN '2006-01-01' AND '2006-05-31';"
   ]
  },
  {
   "cell_type": "markdown",
   "metadata": {},
   "source": [
    "# Muestra el email y el telefono de los clientes que hayan comprado en sharp bikes"
   ]
  },
  {
   "cell_type": "code",
   "execution_count": null,
   "metadata": {},
   "outputs": [],
   "source": [
    "SELECT EmailAddress, Phone\n",
    "FROM SalesLT.Customer\n",
    "Where CompanyName LIKE ('%Sharp Bikes%');"
   ]
  },
  {
   "cell_type": "markdown",
   "metadata": {},
   "source": [
    "\n",
    "# saber la ciudad de los clientes Y EL NOMBRE"
   ]
  },
  {
   "cell_type": "markdown",
   "metadata": {},
   "source": [
    "SELECT C.FirstName , A.City\n",
    "FROM SalesLT.Customer C\n",
    "JOIN SalesLT.CustomerAddress CA ON CA.CustomerID= C.CustomerID\n",
    "JOIN SalesLT.Address A ON CA.AddressID= A.AddressID\n"
   ]
  },
  {
   "cell_type": "markdown",
   "metadata": {},
   "source": [
    "\n",
    "\n",
    "\n",
    "\n",
    "\n",
    "\n",
    "\n",
    "\n",
    "\n",
    "\n",
    "\n"
   ]
  }
 ],
 "metadata": {
  "language_info": {
   "name": "python"
  }
 },
 "nbformat": 4,
 "nbformat_minor": 2
}
